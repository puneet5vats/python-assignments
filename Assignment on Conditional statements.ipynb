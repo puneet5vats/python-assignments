{
 "cells": [
  {
   "cell_type": "markdown",
   "id": "6e7e4c85",
   "metadata": {},
   "source": [
    "# Weather Type\n",
    "0 - 25 : Cold Weather\n",
    "\n",
    "Between 25 and 30 : Normal Weather\n",
    "\n",
    "Between 30 and 40: Hot Weather\n",
    "\n",
    "Between 40 and 50: Extremely Hot Weather\n",
    "\n",
    "Above 50: Invalid Temperature\n",
    "\n"
   ]
  },
  {
   "cell_type": "code",
   "execution_count": 3,
   "id": "c7f656f3",
   "metadata": {},
   "outputs": [
    {
     "name": "stdout",
     "output_type": "stream",
     "text": [
      "Enter temperature: 41\n",
      "It's an extremely hot weather\n"
     ]
    }
   ],
   "source": [
    "temp= int(input(\"Enter temperature: \"))\n",
    "\n",
    "if temp>=25 and temp<=30:\n",
    "    print(\"It's a normal weather\")\n",
    "elif temp>=30 and temp<=40:\n",
    "    print(\"It's a hot weather\")\n",
    "elif temp>=40 and temp<=50:\n",
    "    print(\"It's an extremely hot weather\")\n",
    "else:\n",
    "    print(\"Invalid temperature\")"
   ]
  },
  {
   "cell_type": "markdown",
   "id": "4a1f0adb",
   "metadata": {},
   "source": [
    "# Triangle Type\n",
    "All sides Equal: Equilateral\n",
    "\n",
    "Two sides equal: Isosceles\n",
    "\n",
    "No sides equal: Scalene"
   ]
  },
  {
   "cell_type": "code",
   "execution_count": 5,
   "id": "0b7b2103",
   "metadata": {},
   "outputs": [
    {
     "name": "stdout",
     "output_type": "stream",
     "text": [
      "Enter side1: 5\n",
      "Enter side2: 5\n",
      "Enter side3: 6\n",
      "It's an isosceles triangle\n"
     ]
    }
   ],
   "source": [
    "side1 = int(input(\"Enter side1: \"))\n",
    "side2 = int(input(\"Enter side2: \"))\n",
    "side3 = int(input(\"Enter side3: \"))\n",
    "\n",
    "if side1==side2==side3:\n",
    "    print(\"It's an equilateral triangle\")\n",
    "elif side1==side2 or side2==side3 or side3==side1:\n",
    "    print(\"It's an isosceles triangle\")\n",
    "else:\n",
    "    print(\"It's a scalene triangle\")"
   ]
  },
  {
   "cell_type": "markdown",
   "id": "56e8efeb",
   "metadata": {},
   "source": [
    "# Leap Year:¶\n",
    "Conditions for Leap Year:\n",
    "\n",
    "The year should be divisible by 4, except when it is the end of the century year (ending with 00). Then it should be divisible with 400."
   ]
  },
  {
   "cell_type": "code",
   "execution_count": 8,
   "id": "b1bdb81a",
   "metadata": {},
   "outputs": [
    {
     "name": "stdout",
     "output_type": "stream",
     "text": [
      "Enter year: 2020\n",
      "It's a leap year\n"
     ]
    }
   ],
   "source": [
    "year=int(input(\"Enter year: \"))\n",
    "\n",
    "if (year%4==0 and year%100!=0) or year%400==0:\n",
    "    print(\"It's a leap year\")\n",
    "else: \n",
    "    print(\"It's not a leap year\")"
   ]
  },
  {
   "cell_type": "markdown",
   "id": "4b9921f8",
   "metadata": {},
   "source": [
    "# Grading System:¶\n",
    "90-100: Grade A\n",
    "\n",
    "75-89: Grade B\n",
    "\n",
    "60-74: Grade C\n",
    "\n",
    "35-59: Grade D\n",
    "\n",
    "Below 35: Grade F\n",
    "\n"
   ]
  },
  {
   "cell_type": "code",
   "execution_count": 10,
   "id": "6c2eac46",
   "metadata": {},
   "outputs": [
    {
     "name": "stdout",
     "output_type": "stream",
     "text": [
      "Enter the number: 95\n",
      "Grade A\n"
     ]
    }
   ],
   "source": [
    "number=int(input(\"Enter the number: \"))\n",
    "\n",
    "if number>=90 and number<=100:\n",
    "    print(\"Grade A\")\n",
    "elif number>=75 and number<=89:\n",
    "    print(\"Grade B\")\n",
    "elif number>=60 and number<=74:\n",
    "    print(\"Grade C\")\n",
    "elif number>=35 and number<=59:\n",
    "    print(\"Grade D\")\n",
    "else:\n",
    "    print(\"Grade F\")"
   ]
  },
  {
   "cell_type": "markdown",
   "id": "fae5fb87",
   "metadata": {},
   "source": [
    "# Check for Odd and Even¶\n",
    "If the number is divisible by 2 (i.e., remainder is 0) then it is even.\n",
    "\n"
   ]
  },
  {
   "cell_type": "code",
   "execution_count": 12,
   "id": "c926b29d",
   "metadata": {},
   "outputs": [
    {
     "name": "stdout",
     "output_type": "stream",
     "text": [
      "Enter any number: 11\n",
      "Odd number\n"
     ]
    }
   ],
   "source": [
    "number = int(input(\"Enter any number: \"))\n",
    "\n",
    "if number%2==0:\n",
    "    print(\"Even number\")\n",
    "else:\n",
    "    print(\"Odd number\")"
   ]
  },
  {
   "cell_type": "code",
   "execution_count": null,
   "id": "81e679e0",
   "metadata": {},
   "outputs": [],
   "source": []
  }
 ],
 "metadata": {
  "kernelspec": {
   "display_name": "Python 3 (ipykernel)",
   "language": "python",
   "name": "python3"
  },
  "language_info": {
   "codemirror_mode": {
    "name": "ipython",
    "version": 3
   },
   "file_extension": ".py",
   "mimetype": "text/x-python",
   "name": "python",
   "nbconvert_exporter": "python",
   "pygments_lexer": "ipython3",
   "version": "3.11.4"
  }
 },
 "nbformat": 4,
 "nbformat_minor": 5
}
