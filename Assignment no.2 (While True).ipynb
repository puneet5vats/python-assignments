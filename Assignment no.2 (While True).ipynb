{
 "cells": [
  {
   "cell_type": "markdown",
   "id": "fa2edc54",
   "metadata": {},
   "source": [
    "# Question 1: Counting Odd Numbers Write a program that continuously takes input from the user until they enter a negative number. The program should then print the count of all the odd numbers entered.\n"
   ]
  },
  {
   "cell_type": "code",
   "execution_count": 17,
   "id": "c8adaef9",
   "metadata": {},
   "outputs": [
    {
     "name": "stdout",
     "output_type": "stream",
     "text": [
      "1\n",
      "2\n",
      "3\n",
      "4\n",
      "5\n",
      "6\n",
      "7\n",
      "8\n",
      "9\n",
      "-1\n"
     ]
    }
   ],
   "source": [
    "count=0\n",
    "while True:\n",
    "    value=int(input())\n",
    "    if value>=0:\n",
    "        if value%2!=0:\n",
    "            count+=1\n",
    "    else:\n",
    "        break"
   ]
  },
  {
   "cell_type": "code",
   "execution_count": 19,
   "id": "b574eb98",
   "metadata": {},
   "outputs": [
    {
     "data": {
      "text/plain": [
       "5"
      ]
     },
     "execution_count": 19,
     "metadata": {},
     "output_type": "execute_result"
    }
   ],
   "source": [
    "count"
   ]
  },
  {
   "cell_type": "markdown",
   "id": "873144da",
   "metadata": {},
   "source": [
    "# Question 2: Guessing Game Create a guessing game where the computer generates a random number between 1 and 100, and the player has to guess it. The game should provide feedback on whether the guess is too high or too low, and it should continue until the player guesses the correct number.\n"
   ]
  },
  {
   "cell_type": "code",
   "execution_count": null,
   "id": "5c343155",
   "metadata": {},
   "outputs": [
    {
     "name": "stdout",
     "output_type": "stream",
     "text": [
      "Guess any number: 40\n",
      "Try low\n",
      "Guess any number: 35\n",
      "Try low\n",
      "Guess any number: 30\n",
      "Try low\n",
      "Guess any number: 25\n",
      "Try low\n",
      "Guess any number: 20\n",
      "Try low\n",
      "Guess any number: 15\n",
      "Try high\n",
      "Guess any number: 16\n",
      "Try high\n",
      "Guess any number: 17\n",
      "Try high\n",
      "Guess any number: 18\n",
      "Congratulate you have guessed correct number\n"
     ]
    }
   ],
   "source": [
    "import random\n",
    "random_number=random.randint(1,100)\n",
    "\n",
    "while True:\n",
    "    guess_number= int(input(\"Guess any number: \"))\n",
    "    if guess_number==random_number:\n",
    "        print(\"Congratulate you have guessed correct number\")\n",
    "    elif guess_number>random_number:\n",
    "        print(\"Try low\")\n",
    "    else:\n",
    "        print(\"Try high\")"
   ]
  },
  {
   "cell_type": "code",
   "execution_count": null,
   "id": "277d540f",
   "metadata": {},
   "outputs": [],
   "source": []
  }
 ],
 "metadata": {
  "kernelspec": {
   "display_name": "Python 3 (ipykernel)",
   "language": "python",
   "name": "python3"
  },
  "language_info": {
   "codemirror_mode": {
    "name": "ipython",
    "version": 3
   },
   "file_extension": ".py",
   "mimetype": "text/x-python",
   "name": "python",
   "nbconvert_exporter": "python",
   "pygments_lexer": "ipython3",
   "version": "3.11.4"
  }
 },
 "nbformat": 4,
 "nbformat_minor": 5
}
