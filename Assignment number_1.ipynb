{
 "cells": [
  {
   "cell_type": "markdown",
   "id": "7fecd8c6",
   "metadata": {},
   "source": [
    "# Question 1: Grade Classifier Write a program that takes a student's numerical grade as input and prints their corresponding letter grade according to the following scale:\n",
    "\n",
    "90 or above: A 80-89: B 70-79: C 60-69: D Below 60: F"
   ]
  },
  {
   "cell_type": "code",
   "execution_count": 38,
   "id": "f799c860",
   "metadata": {},
   "outputs": [
    {
     "name": "stdout",
     "output_type": "stream",
     "text": [
      " Enter your marks: 95\n"
     ]
    }
   ],
   "source": [
    "marks= int(input(\" Enter your marks: \"))"
   ]
  },
  {
   "cell_type": "code",
   "execution_count": 42,
   "id": "38c5ef33",
   "metadata": {},
   "outputs": [
    {
     "name": "stdout",
     "output_type": "stream",
     "text": [
      " Grade A\n"
     ]
    }
   ],
   "source": [
    "if marks>=90:\n",
    "    print(\" Grade A\")\n",
    "elif marks>=80:\n",
    "    print(\" Grade B\")\n",
    "elif marks>=70:\n",
    "    print(\" Grade C\")\n",
    "elif marks>=60:\n",
    "    print(\" Grade D\")\n",
    "else:\n",
    "    print(\" Grade F: Failed\")"
   ]
  },
  {
   "cell_type": "markdown",
   "id": "588d9e9a",
   "metadata": {},
   "source": [
    "# Question 2: Even or Odd Write a program that takes an integer as input and determines whether it is even or odd.\n"
   ]
  },
  {
   "cell_type": "code",
   "execution_count": 52,
   "id": "8693267a",
   "metadata": {},
   "outputs": [
    {
     "name": "stdout",
     "output_type": "stream",
     "text": [
      "Enter any number: 8\n"
     ]
    }
   ],
   "source": [
    "number= int(input(\"Enter any number: \"))"
   ]
  },
  {
   "cell_type": "code",
   "execution_count": 53,
   "id": "accf7328",
   "metadata": {},
   "outputs": [
    {
     "name": "stdout",
     "output_type": "stream",
     "text": [
      "Even number\n"
     ]
    }
   ],
   "source": [
    "if number%2==0:\n",
    "    print(\"Even number\")\n",
    "else:\n",
    "    print(\"Odd number\")"
   ]
  },
  {
   "cell_type": "markdown",
   "id": "25c89dc9",
   "metadata": {},
   "source": [
    "# Question 3: Leap Year Checker Write a program that checks if a given year is a leap year. A leap year is either divisible by 4 but not by 100, or divisible by 400.\n"
   ]
  },
  {
   "cell_type": "code",
   "execution_count": null,
   "id": "fb8c1b09",
   "metadata": {},
   "outputs": [],
   "source": [
    "year=int(input(\"Enter year: \"))"
   ]
  },
  {
   "cell_type": "code",
   "execution_count": 67,
   "id": "10bcc706",
   "metadata": {},
   "outputs": [
    {
     "name": "stdout",
     "output_type": "stream",
     "text": [
      " It is leap year\n"
     ]
    }
   ],
   "source": [
    "if (year%4==0 and year%100!=0) or (year%400==0):\n",
    "    print(\" It is leap year\")\n",
    "else:\n",
    "    print(\" It is not a leap year\")"
   ]
  },
  {
   "cell_type": "markdown",
   "id": "7e059464",
   "metadata": {},
   "source": [
    "# Question 4: Positive, Negative, or Zero Write a program that takes a number as input and prints whether it is positive, negative, or zero.\n"
   ]
  },
  {
   "cell_type": "code",
   "execution_count": 81,
   "id": "ead3786d",
   "metadata": {},
   "outputs": [
    {
     "name": "stdout",
     "output_type": "stream",
     "text": [
      "Enter any number: -1\n"
     ]
    }
   ],
   "source": [
    "number= int(input(\"Enter any number: \"))"
   ]
  },
  {
   "cell_type": "code",
   "execution_count": 82,
   "id": "79023643",
   "metadata": {},
   "outputs": [
    {
     "name": "stdout",
     "output_type": "stream",
     "text": [
      " Negative number\n"
     ]
    }
   ],
   "source": [
    "if number>=1:\n",
    "    print(\" Positive number\")\n",
    "elif number==0:\n",
    "    print(\" Zero number\")\n",
    "else:\n",
    "    print(\" Negative number\")"
   ]
  },
  {
   "cell_type": "markdown",
   "id": "ca1e2add",
   "metadata": {},
   "source": [
    "# Question 5: Triangle Type Write a program that takes the lengths of three sides of a triangle as input and determines whether it's an equilateral, isosceles, or scalene triangle."
   ]
  },
  {
   "cell_type": "code",
   "execution_count": 87,
   "id": "b9d9ac1b",
   "metadata": {},
   "outputs": [
    {
     "name": "stdout",
     "output_type": "stream",
     "text": [
      " Enter side 1:10\n",
      " Enter side 2:20\n",
      " Enter side 3:20\n"
     ]
    }
   ],
   "source": [
    "side1= float(input(\" Enter side 1:\"))\n",
    "side2= float(input(\" Enter side 2:\"))\n",
    "side3= float(input(\" Enter side 3:\"))"
   ]
  },
  {
   "cell_type": "code",
   "execution_count": 88,
   "id": "bd66ee18",
   "metadata": {},
   "outputs": [
    {
     "name": "stdout",
     "output_type": "stream",
     "text": [
      " Isosceles triangle\n"
     ]
    }
   ],
   "source": [
    "if side1==side2==side3:\n",
    "    print(\" Equilateral triangle\")\n",
    "elif side1==side2 or side1==side3 or side2==side3:\n",
    "    print(\" Isosceles triangle\")\n",
    "else:\n",
    "    print(\" Scalene triangle\")"
   ]
  },
  {
   "cell_type": "code",
   "execution_count": null,
   "id": "b0cc35f6",
   "metadata": {},
   "outputs": [],
   "source": []
  }
 ],
 "metadata": {
  "kernelspec": {
   "display_name": "Python 3 (ipykernel)",
   "language": "python",
   "name": "python3"
  },
  "language_info": {
   "codemirror_mode": {
    "name": "ipython",
    "version": 3
   },
   "file_extension": ".py",
   "mimetype": "text/x-python",
   "name": "python",
   "nbconvert_exporter": "python",
   "pygments_lexer": "ipython3",
   "version": "3.11.4"
  }
 },
 "nbformat": 4,
 "nbformat_minor": 5
}
