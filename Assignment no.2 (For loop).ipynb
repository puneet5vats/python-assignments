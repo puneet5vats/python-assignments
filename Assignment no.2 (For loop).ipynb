{
 "cells": [
  {
   "cell_type": "markdown",
   "id": "d7b668a1",
   "metadata": {},
   "source": [
    "# Question 1: Print Even Numbers Write a program that prints all even numbers between 1 and 20."
   ]
  },
  {
   "cell_type": "code",
   "execution_count": 4,
   "id": "e0159f8f",
   "metadata": {},
   "outputs": [
    {
     "data": {
      "text/plain": [
       "[1, 2, 3, 4, 5, 6, 7, 8, 9, 10, 11, 12, 13, 14, 15, 16, 17, 18, 19, 20]"
      ]
     },
     "execution_count": 4,
     "metadata": {},
     "output_type": "execute_result"
    }
   ],
   "source": [
    "list(range(1,21))"
   ]
  },
  {
   "cell_type": "code",
   "execution_count": 8,
   "id": "41f8df1a",
   "metadata": {},
   "outputs": [
    {
     "name": "stdout",
     "output_type": "stream",
     "text": [
      "2\n",
      "4\n",
      "6\n",
      "8\n",
      "10\n",
      "12\n",
      "14\n",
      "16\n",
      "18\n",
      "20\n",
      " All done\n"
     ]
    }
   ],
   "source": [
    "for i in range(1,21):\n",
    "    if i%2==0:\n",
    "        print(i)\n",
    "else:\n",
    "    print(\" All done\")"
   ]
  },
  {
   "cell_type": "markdown",
   "id": "0fa9dacc",
   "metadata": {},
   "source": [
    "# Question 2: Calculate Factorial Write a program that calculates the factorial of a given positive integer.\n"
   ]
  },
  {
   "cell_type": "code",
   "execution_count": 52,
   "id": "527fd7cf",
   "metadata": {},
   "outputs": [
    {
     "name": "stdout",
     "output_type": "stream",
     "text": [
      " Enter any number: 5\n"
     ]
    }
   ],
   "source": [
    "number=int(input(\" Enter any number: \"))"
   ]
  },
  {
   "cell_type": "code",
   "execution_count": 53,
   "id": "89b4dbbe",
   "metadata": {},
   "outputs": [
    {
     "name": "stdout",
     "output_type": "stream",
     "text": [
      " Factorial of the given number is \n"
     ]
    }
   ],
   "source": [
    "factorial=1\n",
    "if number>=1:\n",
    "    for i in range(1, number+1):\n",
    "        factorial= factorial*i\n",
    "    print(\" Factorial of the given number is \")"
   ]
  },
  {
   "cell_type": "markdown",
   "id": "a74b5ddf",
   "metadata": {},
   "source": [
    "# Question 3: Print Multiplication Table Write a program that takes an integer as input and prints its multiplication table up to 10.\n"
   ]
  },
  {
   "cell_type": "code",
   "execution_count": 56,
   "id": "09923ceb",
   "metadata": {},
   "outputs": [
    {
     "name": "stdout",
     "output_type": "stream",
     "text": [
      " Enter any number: 12\n"
     ]
    }
   ],
   "source": [
    "number= int(input(\" Enter any number: \"))"
   ]
  },
  {
   "cell_type": "code",
   "execution_count": 58,
   "id": "eec3a251",
   "metadata": {},
   "outputs": [
    {
     "name": "stdout",
     "output_type": "stream",
     "text": [
      " 12x1=12\n",
      " 12x2=24\n",
      " 12x3=36\n",
      " 12x4=48\n",
      " 12x5=60\n",
      " 12x6=72\n",
      " 12x7=84\n",
      " 12x8=96\n",
      " 12x9=108\n",
      " 12x10=120\n",
      " All done\n"
     ]
    }
   ],
   "source": [
    "for i in range(1,11):\n",
    "    print(f\" {number}x{i}={number*i}\")\n",
    "else:\n",
    "    print(\" All done\")"
   ]
  },
  {
   "cell_type": "markdown",
   "id": "d6eb806f",
   "metadata": {},
   "source": [
    "# Question 4: Calculate Sum of Digits Write a program that calculates the sum of the digits of a given number.\n"
   ]
  },
  {
   "cell_type": "code",
   "execution_count": 99,
   "id": "181b3b00",
   "metadata": {},
   "outputs": [
    {
     "name": "stdout",
     "output_type": "stream",
     "text": [
      "Enter a number: 12345\n",
      "1\n",
      "3\n",
      "6\n",
      "10\n",
      "15\n"
     ]
    }
   ],
   "source": [
    "number=input(\"Enter a number: \")\n",
    "sum=0\n",
    "\n",
    "for i in number:\n",
    "    sum= sum+ int(i)\n",
    "    print(sum)"
   ]
  },
  {
   "cell_type": "markdown",
   "id": "2b173079",
   "metadata": {},
   "source": [
    "# Question 5: Calculate Fibonacci Series Write a program that generates the Fibonacci series up to a given number of terms."
   ]
  },
  {
   "cell_type": "code",
   "execution_count": 101,
   "id": "9bd8b978",
   "metadata": {},
   "outputs": [
    {
     "name": "stdout",
     "output_type": "stream",
     "text": [
      "Enter the range of number: 8\n",
      "1\n",
      "2\n",
      "3\n",
      "5\n",
      "8\n",
      "13\n"
     ]
    }
   ],
   "source": [
    "number=int(input(\"Enter the range of number: \"))\n",
    "first_value=0\n",
    "second_value=1\n",
    "for n in range(0,number):\n",
    "    if (n<=1):\n",
    "        next=n\n",
    "    else:\n",
    "        next=first_value+second_value\n",
    "        first_value=second_value\n",
    "        second_value=next\n",
    "        print(next)"
   ]
  }
 ],
 "metadata": {
  "kernelspec": {
   "display_name": "Python 3 (ipykernel)",
   "language": "python",
   "name": "python3"
  },
  "language_info": {
   "codemirror_mode": {
    "name": "ipython",
    "version": 3
   },
   "file_extension": ".py",
   "mimetype": "text/x-python",
   "name": "python",
   "nbconvert_exporter": "python",
   "pygments_lexer": "ipython3",
   "version": "3.11.4"
  }
 },
 "nbformat": 4,
 "nbformat_minor": 5
}
